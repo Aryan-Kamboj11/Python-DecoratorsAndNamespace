{
 "cells": [
  {
   "cell_type": "markdown",
   "id": "c7a2ded0",
   "metadata": {},
   "source": [
    "# Namespaces\n",
    "\n",
    "A namespace is a space that holds names(Identifiers). Programmaticaly speaking namespaces are dictionary of identifiers(keys) and their objects (values).\n",
    "\n",
    "There are 4 types of namespace:\n",
    "- Builtin namespace\n",
    "- Global Namespace\n",
    "- Enclosing Namespace\n",
    "- Local Namspace"
   ]
  },
  {
   "cell_type": "markdown",
   "id": "bc3df594",
   "metadata": {},
   "source": [
    "# Scope and LEGB Rule\n",
    "\n",
    "A scope is a textual region of python program where a namespace is directly accessible.\n",
    "\n",
    "The interpreter searches for a name from the inside out, looking in the local, enclosing , global and finally the built-in-scope. If the interpreter doesn't find the name in any of these locations, then Python raises a NameError exception"
   ]
  },
  {
   "cell_type": "code",
   "execution_count": 1,
   "id": "b58a97f7",
   "metadata": {},
   "outputs": [
    {
     "name": "stdout",
     "output_type": "stream",
     "text": [
      "['ArithmeticError', 'AssertionError', 'AttributeError', 'BaseException', 'BlockingIOError', 'BrokenPipeError', 'BufferError', 'BytesWarning', 'ChildProcessError', 'ConnectionAbortedError', 'ConnectionError', 'ConnectionRefusedError', 'ConnectionResetError', 'DeprecationWarning', 'EOFError', 'Ellipsis', 'EnvironmentError', 'Exception', 'False', 'FileExistsError', 'FileNotFoundError', 'FloatingPointError', 'FutureWarning', 'GeneratorExit', 'IOError', 'ImportError', 'ImportWarning', 'IndentationError', 'IndexError', 'InterruptedError', 'IsADirectoryError', 'KeyError', 'KeyboardInterrupt', 'LookupError', 'MemoryError', 'ModuleNotFoundError', 'NameError', 'None', 'NotADirectoryError', 'NotImplemented', 'NotImplementedError', 'OSError', 'OverflowError', 'PendingDeprecationWarning', 'PermissionError', 'ProcessLookupError', 'RecursionError', 'ReferenceError', 'ResourceWarning', 'RuntimeError', 'RuntimeWarning', 'StopAsyncIteration', 'StopIteration', 'SyntaxError', 'SyntaxWarning', 'SystemError', 'SystemExit', 'TabError', 'TimeoutError', 'True', 'TypeError', 'UnboundLocalError', 'UnicodeDecodeError', 'UnicodeEncodeError', 'UnicodeError', 'UnicodeTranslateError', 'UnicodeWarning', 'UserWarning', 'ValueError', 'Warning', 'WindowsError', 'ZeroDivisionError', '__IPYTHON__', '__build_class__', '__debug__', '__doc__', '__import__', '__loader__', '__name__', '__package__', '__spec__', 'abs', 'all', 'any', 'ascii', 'bin', 'bool', 'breakpoint', 'bytearray', 'bytes', 'callable', 'chr', 'classmethod', 'compile', 'complex', 'copyright', 'credits', 'delattr', 'dict', 'dir', 'display', 'divmod', 'enumerate', 'eval', 'exec', 'execfile', 'filter', 'float', 'format', 'frozenset', 'get_ipython', 'getattr', 'globals', 'hasattr', 'hash', 'help', 'hex', 'id', 'input', 'int', 'isinstance', 'issubclass', 'iter', 'len', 'license', 'list', 'locals', 'map', 'max', 'memoryview', 'min', 'next', 'object', 'oct', 'open', 'ord', 'pow', 'print', 'property', 'range', 'repr', 'reversed', 'round', 'runfile', 'set', 'setattr', 'slice', 'sorted', 'staticmethod', 'str', 'sum', 'super', 'tuple', 'type', 'vars', 'zip']\n"
     ]
    }
   ],
   "source": [
    "import builtins\n",
    "\n",
    "print(dir(builtins))"
   ]
  },
  {
   "cell_type": "code",
   "execution_count": 4,
   "id": "952c413e",
   "metadata": {},
   "outputs": [
    {
     "name": "stdout",
     "output_type": "stream",
     "text": [
      "outer function\n",
      "main program\n"
     ]
    }
   ],
   "source": [
    "def outer():\n",
    "    a = 1\n",
    "    def inner():\n",
    "        nonlocal a\n",
    "        a+=1\n",
    "    inner()\n",
    "    print('outer function')\n",
    "outer()\n",
    "print('main program')"
   ]
  },
  {
   "cell_type": "markdown",
   "id": "60499af3",
   "metadata": {},
   "source": [
    "# Decorators\n",
    "\n",
    "A decorator in python is a function that recieves another function as input and adds some functionality (decoration) to it       and returns it.\n",
    "    \n",
    "This can happen only because python function are 1st class citizens.\n",
    "    \n",
    "There are 2 types of decorators available in python :\n",
    "- Built in decorators like @staticmethod, @classmethod , @abstractmethod and @property etc\n",
    "- Users defined decorators"
   ]
  },
  {
   "cell_type": "code",
   "execution_count": 5,
   "id": "8a98a426",
   "metadata": {},
   "outputs": [
    {
     "data": {
      "text/plain": [
       "16"
      ]
     },
     "execution_count": 5,
     "metadata": {},
     "output_type": "execute_result"
    }
   ],
   "source": [
    "def modify(func,num):\n",
    "    return func(num)   ### This is the concept of decorator\n",
    "\n",
    "def square(num):\n",
    "    return num**2\n",
    "\n",
    "modify(square,4)"
   ]
  },
  {
   "cell_type": "code",
   "execution_count": 9,
   "id": "b95ca34e",
   "metadata": {},
   "outputs": [
    {
     "name": "stdout",
     "output_type": "stream",
     "text": [
      "**********************\n",
      "Hello\n",
      "**********************\n",
      "**********************\n",
      "Hello Aryan\n",
      "**********************\n"
     ]
    }
   ],
   "source": [
    "def my_decorator(func):\n",
    "    def wrapper():\n",
    "        print('**********************')\n",
    "        func()\n",
    "        print('**********************')\n",
    "    return wrapper\n",
    "\n",
    "def hello():\n",
    "    print('Hello')\n",
    "\n",
    "    \n",
    "def display():\n",
    "    print('Hello Aryan')\n",
    "    \n",
    "a=my_decorator(hello)\n",
    "a()\n",
    "\n",
    " \n",
    "b=my_decorator(display)\n",
    "b()"
   ]
  },
  {
   "cell_type": "code",
   "execution_count": 11,
   "id": "e0a7319c",
   "metadata": {},
   "outputs": [
    {
     "name": "stdout",
     "output_type": "stream",
     "text": [
      "**********************\n",
      "Hello\n",
      "**********************\n",
      "**********************\n",
      "Hello Aryan\n",
      "**********************\n"
     ]
    }
   ],
   "source": [
    "def my_decorator(func):\n",
    "    def wrapper():\n",
    "        print('**********************')\n",
    "        func()\n",
    "        print('**********************')\n",
    "    return wrapper\n",
    "\n",
    "\n",
    "@my_decorator\n",
    "def hello():\n",
    "    print('Hello')\n",
    "\n",
    "@my_decorator    \n",
    "def display():\n",
    "    print('Hello Aryan')\n",
    "\n",
    "\n",
    "hello()\n",
    "display()"
   ]
  },
  {
   "cell_type": "code",
   "execution_count": 15,
   "id": "3dc7cc92",
   "metadata": {},
   "outputs": [
    {
     "name": "stdout",
     "output_type": "stream",
     "text": [
      "hello\n",
      "Time taken by function  new_fun 2.004754066467285  secs\n",
      "4\n",
      "Time taken by function  calc 1.0131607055664062  secs\n"
     ]
    }
   ],
   "source": [
    "import time \n",
    "\n",
    "def timer(func):\n",
    "    def wrapper(*args):\n",
    "        start = time.time()\n",
    "        func(*args)\n",
    "        print('Time taken by function ',func.__name__,time.time()-start,' secs')\n",
    "    return wrapper\n",
    "\n",
    "@timer\n",
    "def new_fun():\n",
    "    print(\"hello\")\n",
    "    time.sleep(2)\n",
    "@timer    \n",
    "def calc(num):\n",
    "    time.sleep(1)\n",
    "    print(num*num)\n",
    "\n",
    "new_fun()\n",
    "calc(2)"
   ]
  },
  {
   "cell_type": "code",
   "execution_count": 23,
   "id": "e77bcf60",
   "metadata": {},
   "outputs": [
    {
     "name": "stdout",
     "output_type": "stream",
     "text": [
      "4\n"
     ]
    }
   ],
   "source": [
    "# Decorator to check the data type ___  Use case for decorator\n",
    "\n",
    "def check(data_type):\n",
    "    def outer_wrapper(func):\n",
    "        def inner_wrapper(*args):\n",
    "            if type(*args) == data_type:\n",
    "                func(*args)\n",
    "            else:\n",
    "                raise TypeError('Wrong DataType')\n",
    "        return inner_wrapper\n",
    "    return outer_wrapper\n",
    "\n",
    "@check(int)\n",
    "def square(num):\n",
    "    print(num**2)\n",
    "    \n",
    "square(2)"
   ]
  },
  {
   "cell_type": "code",
   "execution_count": null,
   "id": "6d5588cc",
   "metadata": {},
   "outputs": [],
   "source": []
  },
  {
   "cell_type": "code",
   "execution_count": null,
   "id": "cd83f787",
   "metadata": {},
   "outputs": [],
   "source": []
  },
  {
   "cell_type": "code",
   "execution_count": null,
   "id": "0d486e7c",
   "metadata": {},
   "outputs": [],
   "source": []
  },
  {
   "cell_type": "code",
   "execution_count": null,
   "id": "200f1aa2",
   "metadata": {},
   "outputs": [],
   "source": []
  },
  {
   "cell_type": "code",
   "execution_count": null,
   "id": "27dc6bf7",
   "metadata": {},
   "outputs": [],
   "source": []
  },
  {
   "cell_type": "code",
   "execution_count": null,
   "id": "b325d3ff",
   "metadata": {},
   "outputs": [],
   "source": []
  },
  {
   "cell_type": "code",
   "execution_count": null,
   "id": "0323b39d",
   "metadata": {},
   "outputs": [],
   "source": []
  },
  {
   "cell_type": "code",
   "execution_count": null,
   "id": "2b7a065c",
   "metadata": {},
   "outputs": [],
   "source": []
  },
  {
   "cell_type": "code",
   "execution_count": null,
   "id": "4d7360ad",
   "metadata": {},
   "outputs": [],
   "source": []
  },
  {
   "cell_type": "code",
   "execution_count": null,
   "id": "541a5a2b",
   "metadata": {},
   "outputs": [],
   "source": []
  },
  {
   "cell_type": "code",
   "execution_count": null,
   "id": "9781b5eb",
   "metadata": {},
   "outputs": [],
   "source": []
  },
  {
   "cell_type": "code",
   "execution_count": null,
   "id": "54ec8e9c",
   "metadata": {},
   "outputs": [],
   "source": []
  },
  {
   "cell_type": "code",
   "execution_count": null,
   "id": "abad97a0",
   "metadata": {},
   "outputs": [],
   "source": []
  },
  {
   "cell_type": "code",
   "execution_count": null,
   "id": "54c7c254",
   "metadata": {},
   "outputs": [],
   "source": []
  },
  {
   "cell_type": "code",
   "execution_count": null,
   "id": "bd018841",
   "metadata": {},
   "outputs": [],
   "source": []
  },
  {
   "cell_type": "code",
   "execution_count": null,
   "id": "ca9b4682",
   "metadata": {},
   "outputs": [],
   "source": []
  },
  {
   "cell_type": "code",
   "execution_count": null,
   "id": "87ec03a9",
   "metadata": {},
   "outputs": [],
   "source": []
  }
 ],
 "metadata": {
  "kernelspec": {
   "display_name": "Python 3 (ipykernel)",
   "language": "python",
   "name": "python3"
  },
  "language_info": {
   "codemirror_mode": {
    "name": "ipython",
    "version": 3
   },
   "file_extension": ".py",
   "mimetype": "text/x-python",
   "name": "python",
   "nbconvert_exporter": "python",
   "pygments_lexer": "ipython3",
   "version": "3.9.7"
  }
 },
 "nbformat": 4,
 "nbformat_minor": 5
}
